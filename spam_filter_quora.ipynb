{
 "cells": [
  {
   "cell_type": "code",
   "execution_count": 24,
   "metadata": {},
   "outputs": [],
   "source": [
    "import pandas as pd\n",
    "import numpy as np\n",
    "import tensorflow as tf\n",
    "from tensorflow.keras.preprocessing.text import Tokenizer\n",
    "from tensorflow.keras.preprocessing.sequence import pad_sequences\n",
    "from tensorflow.keras.layers import Input, Embedding, LSTM, Dense, Dropout, Bidirectional, GlobalAveragePooling1D\n",
    "from tensorflow.keras.models import Model\n",
    "from sklearn.model_selection import train_test_split\n",
    "from sklearn.metrics import classification_report, f1_score\n",
    "from sklearn.utils.class_weight import compute_class_weight\n",
    "from imblearn.over_sampling import RandomOverSampler\n",
    "import re"
   ]
  },
  {
   "cell_type": "markdown",
   "metadata": {},
   "source": [
    "#### Data Exploration & pre-processing"
   ]
  },
  {
   "cell_type": "code",
   "execution_count": 25,
   "metadata": {},
   "outputs": [
    {
     "name": "stdout",
     "output_type": "stream",
     "text": [
      "Initial class distribution:\n",
      "target\n",
      "0    1225312\n",
      "1      80810\n",
      "Name: count, dtype: int64\n"
     ]
    }
   ],
   "source": [
    "train_data = pd.read_csv('train.csv')\n",
    "print(\"Initial class distribution:\")\n",
    "print(train_data['target'].value_counts())"
   ]
  },
  {
   "cell_type": "code",
   "execution_count": 27,
   "metadata": {},
   "outputs": [],
   "source": [
    "#hyperparameters\n",
    "max_words = 30000\n",
    "max_len = 100\n",
    "embedding_dim = 300 \n",
    "lstm_units = 128\n",
    "dense_units = 64\n",
    "dropout_rate = 0.5"
   ]
  },
  {
   "cell_type": "code",
   "execution_count": 28,
   "metadata": {},
   "outputs": [],
   "source": [
    "# Preprocess text\n",
    "def clean_text(text):\n",
    "    text = str(text).lower()\n",
    "    text = re.sub(r'[^a-zA-Z0-9\\s]', '', text)\n",
    "    text = ' '.join(text.split())\n",
    "    return text\n",
    "\n",
    "train_data['question_text'] = train_data['question_text'].apply(clean_text)"
   ]
  },
  {
   "cell_type": "code",
   "execution_count": 29,
   "metadata": {},
   "outputs": [],
   "source": [
    "# Create and fit tokenizer\n",
    "tokenizer = Tokenizer(num_words=max_words)\n",
    "tokenizer.fit_on_texts(train_data['question_text'])"
   ]
  },
  {
   "cell_type": "code",
   "execution_count": 30,
   "metadata": {},
   "outputs": [],
   "source": [
    "# Convert text to sequences and pad\n",
    "sequences = tokenizer.texts_to_sequences(train_data['question_text'])\n",
    "x_data = pad_sequences(sequences, maxlen=max_len)\n",
    "y_data = train_data['target'].values"
   ]
  },
  {
   "cell_type": "code",
   "execution_count": 31,
   "metadata": {},
   "outputs": [
    {
     "name": "stdout",
     "output_type": "stream",
     "text": [
      "Resampled class distribution:\n",
      "0    1225312\n",
      "1    1225312\n",
      "Name: count, dtype: int64\n"
     ]
    }
   ],
   "source": [
    "# Balance the dataset using RandomOverSampler\n",
    "ros = RandomOverSampler(random_state=42)\n",
    "x_data_resampled, y_data_resampled = ros.fit_resample(x_data, y_data)\n",
    "\n",
    "print(\"Resampled class distribution:\")\n",
    "print(pd.Series(y_data_resampled).value_counts())"
   ]
  },
  {
   "cell_type": "code",
   "execution_count": 32,
   "metadata": {},
   "outputs": [
    {
     "name": "stdout",
     "output_type": "stream",
     "text": [
      "Loading GloVe embeddings...\n",
      "Found 400000 word vectors.\n"
     ]
    }
   ],
   "source": [
    "# Load GloVe embeddings\n",
    "print(\"Loading GloVe embeddings...\")\n",
    "embedding_index = {}\n",
    "with open('glove.6B.300d.txt', 'r', encoding='utf-8') as file:\n",
    "    for line in file:\n",
    "        values = line.split()\n",
    "        word = values[0]\n",
    "        coefs = np.asarray(values[1:], dtype='float32')\n",
    "        embedding_index[word] = coefs\n",
    "print(f\"Found {len(embedding_index)} word vectors.\")"
   ]
  },
  {
   "cell_type": "code",
   "execution_count": 33,
   "metadata": {},
   "outputs": [],
   "source": [
    "# Create embedding matrix\n",
    "embedding_matrix = np.zeros((max_words, embedding_dim))\n",
    "for word, i in tokenizer.word_index.items():\n",
    "    if i < max_words:\n",
    "        embedding_vector = embedding_index.get(word)\n",
    "        if embedding_vector is not None:\n",
    "            embedding_matrix[i] = embedding_vector"
   ]
  },
  {
   "cell_type": "markdown",
   "metadata": {},
   "source": [
    "#### Model Training"
   ]
  },
  {
   "cell_type": "code",
   "execution_count": 34,
   "metadata": {},
   "outputs": [],
   "source": [
    "# Split the data\n",
    "x_train, x_val, y_train, y_val = train_test_split(\n",
    "    x_data_resampled, y_data_resampled,\n",
    "    test_size=0.2,\n",
    "    random_state=42,\n",
    "    stratify=y_data_resampled\n",
    ")"
   ]
  },
  {
   "cell_type": "code",
   "execution_count": 36,
   "metadata": {},
   "outputs": [],
   "source": [
    "# Build the model\n",
    "input_layer = Input(shape=(max_len,))\n",
    "\n",
    "embedding_layer = Embedding(\n",
    "    max_words,\n",
    "    embedding_dim,\n",
    "    weights=[embedding_matrix],\n",
    "    trainable=False\n",
    ")(input_layer)\n",
    "\n",
    "lstm_1 = Bidirectional(LSTM(lstm_units, return_sequences=True))(embedding_layer)\n",
    "lstm_2 = Bidirectional(LSTM(lstm_units, return_sequences=True))(lstm_1)\n",
    "\n",
    "pooled = GlobalAveragePooling1D()(lstm_2)\n",
    "\n",
    "dense_1 = Dense(dense_units, activation='relu')(pooled)\n",
    "dropout_1 = Dropout(dropout_rate)(dense_1)\n",
    "dense_2 = Dense(dense_units // 2, activation='relu')(dropout_1)\n",
    "dropout_2 = Dropout(dropout_rate)(dense_2)\n",
    "\n",
    "output_layer = Dense(1, activation='sigmoid')(dropout_2)\n",
    "\n",
    "model = Model(inputs=input_layer, outputs=output_layer)\n",
    "model.compile(\n",
    "    optimizer=tf.keras.optimizers.Adam(learning_rate=0.001),\n",
    "    loss='binary_crossentropy',\n",
    "    metrics=['accuracy', tf.keras.metrics.AUC()]\n",
    ")\n",
    "\n",
    "callbacks = [\n",
    "    tf.keras.callbacks.EarlyStopping(\n",
    "        monitor='val_auc',\n",
    "        patience=3,\n",
    "        restore_best_weights=True,\n",
    "        mode='max'\n",
    "    ),\n",
    "    tf.keras.callbacks.ReduceLROnPlateau(\n",
    "        monitor='val_loss',\n",
    "        factor=0.2,\n",
    "        patience=2,\n",
    "        min_lr=1e-6\n",
    "    )\n",
    "]\n"
   ]
  },
  {
   "cell_type": "code",
   "execution_count": 37,
   "metadata": {},
   "outputs": [
    {
     "name": "stdout",
     "output_type": "stream",
     "text": [
      "Epoch 1/15\n",
      "\u001b[1m61266/61266\u001b[0m \u001b[32m━━━━━━━━━━━━━━━━━━━━\u001b[0m\u001b[37m\u001b[0m \u001b[1m6084s\u001b[0m 99ms/step - accuracy: 0.9046 - auc_1: 0.9564 - loss: 0.2589 - val_accuracy: 0.9530 - val_auc_1: 0.9829 - val_loss: 0.1393 - learning_rate: 0.0010\n",
      "Epoch 2/15\n",
      "\u001b[1m    1/61266\u001b[0m \u001b[37m━━━━━━━━━━━━━━━━━━━━\u001b[0m \u001b[1m2:45:13\u001b[0m 162ms/step - accuracy: 0.9688 - auc_1: 0.9961 - loss: 0.1028"
     ]
    },
    {
     "name": "stderr",
     "output_type": "stream",
     "text": [
      "d:\\Education\\AIML\\IITK\\DL Project\\Spam Filter Quora\\.venv\\Lib\\site-packages\\keras\\src\\callbacks\\early_stopping.py:153: UserWarning: Early stopping conditioned on metric `val_auc` which is not available. Available metrics are: accuracy,auc_1,loss,val_accuracy,val_auc_1,val_loss\n",
      "  current = self.get_monitor_value(logs)\n"
     ]
    },
    {
     "name": "stdout",
     "output_type": "stream",
     "text": [
      "\u001b[1m61266/61266\u001b[0m \u001b[32m━━━━━━━━━━━━━━━━━━━━\u001b[0m\u001b[37m\u001b[0m \u001b[1m6702s\u001b[0m 109ms/step - accuracy: 0.9595 - auc_1: 0.9839 - loss: 0.1268 - val_accuracy: 0.9647 - val_auc_1: 0.9863 - val_loss: 0.1115 - learning_rate: 0.0010\n",
      "Epoch 3/15\n",
      "\u001b[1m61266/61266\u001b[0m \u001b[32m━━━━━━━━━━━━━━━━━━━━\u001b[0m\u001b[37m\u001b[0m \u001b[1m6871s\u001b[0m 112ms/step - accuracy: 0.9699 - auc_1: 0.9881 - loss: 0.0993 - val_accuracy: 0.9692 - val_auc_1: 0.9877 - val_loss: 0.1015 - learning_rate: 0.0010\n",
      "Epoch 4/15\n",
      "\u001b[1m61266/61266\u001b[0m \u001b[32m━━━━━━━━━━━━━━━━━━━━\u001b[0m\u001b[37m\u001b[0m \u001b[1m6783s\u001b[0m 111ms/step - accuracy: 0.9738 - auc_1: 0.9900 - loss: 0.0878 - val_accuracy: 0.9712 - val_auc_1: 0.9883 - val_loss: 0.0953 - learning_rate: 0.0010\n",
      "Epoch 5/15\n",
      "\u001b[1m61266/61266\u001b[0m \u001b[32m━━━━━━━━━━━━━━━━━━━━\u001b[0m\u001b[37m\u001b[0m \u001b[1m6868s\u001b[0m 112ms/step - accuracy: 0.9759 - auc_1: 0.9908 - loss: 0.0824 - val_accuracy: 0.9711 - val_auc_1: 0.9884 - val_loss: 0.0956 - learning_rate: 0.0010\n",
      "Epoch 6/15\n",
      "\u001b[1m61266/61266\u001b[0m \u001b[32m━━━━━━━━━━━━━━━━━━━━\u001b[0m\u001b[37m\u001b[0m \u001b[1m7059s\u001b[0m 115ms/step - accuracy: 0.9774 - auc_1: 0.9913 - loss: 0.0786 - val_accuracy: 0.9718 - val_auc_1: 0.9887 - val_loss: 0.0943 - learning_rate: 0.0010\n",
      "Epoch 7/15\n",
      "\u001b[1m61266/61266\u001b[0m \u001b[32m━━━━━━━━━━━━━━━━━━━━\u001b[0m\u001b[37m\u001b[0m \u001b[1m7119s\u001b[0m 116ms/step - accuracy: 0.9778 - auc_1: 0.9917 - loss: 0.0767 - val_accuracy: 0.9719 - val_auc_1: 0.9885 - val_loss: 0.0960 - learning_rate: 0.0010\n",
      "Epoch 8/15\n",
      "\u001b[1m61266/61266\u001b[0m \u001b[32m━━━━━━━━━━━━━━━━━━━━\u001b[0m\u001b[37m\u001b[0m \u001b[1m6827s\u001b[0m 111ms/step - accuracy: 0.9783 - auc_1: 0.9921 - loss: 0.0750 - val_accuracy: 0.9718 - val_auc_1: 0.9884 - val_loss: 0.0946 - learning_rate: 0.0010\n",
      "Epoch 9/15\n",
      "\u001b[1m61266/61266\u001b[0m \u001b[32m━━━━━━━━━━━━━━━━━━━━\u001b[0m\u001b[37m\u001b[0m \u001b[1m6055s\u001b[0m 99ms/step - accuracy: 0.9862 - auc_1: 0.9939 - loss: 0.0544 - val_accuracy: 0.9852 - val_auc_1: 0.9912 - val_loss: 0.0635 - learning_rate: 2.0000e-04\n",
      "Epoch 10/15\n",
      "\u001b[1m61266/61266\u001b[0m \u001b[32m━━━━━━━━━━━━━━━━━━━━\u001b[0m\u001b[37m\u001b[0m \u001b[1m6150s\u001b[0m 100ms/step - accuracy: 0.9926 - auc_1: 0.9960 - loss: 0.0349 - val_accuracy: 0.9847 - val_auc_1: 0.9909 - val_loss: 0.0682 - learning_rate: 2.0000e-04\n",
      "Epoch 11/15\n",
      "\u001b[1m61266/61266\u001b[0m \u001b[32m━━━━━━━━━━━━━━━━━━━━\u001b[0m\u001b[37m\u001b[0m \u001b[1m6202s\u001b[0m 101ms/step - accuracy: 0.9937 - auc_1: 0.9968 - loss: 0.0304 - val_accuracy: 0.9857 - val_auc_1: 0.9910 - val_loss: 0.0666 - learning_rate: 2.0000e-04\n",
      "Epoch 12/15\n",
      "\u001b[1m61266/61266\u001b[0m \u001b[32m━━━━━━━━━━━━━━━━━━━━\u001b[0m\u001b[37m\u001b[0m \u001b[1m7036s\u001b[0m 115ms/step - accuracy: 0.9949 - auc_1: 0.9976 - loss: 0.0255 - val_accuracy: 0.9883 - val_auc_1: 0.9913 - val_loss: 0.0626 - learning_rate: 4.0000e-05\n",
      "Epoch 13/15\n",
      "\u001b[1m61266/61266\u001b[0m \u001b[32m━━━━━━━━━━━━━━━━━━━━\u001b[0m\u001b[37m\u001b[0m \u001b[1m6580s\u001b[0m 107ms/step - accuracy: 0.9957 - auc_1: 0.9981 - loss: 0.0221 - val_accuracy: 0.9880 - val_auc_1: 0.9909 - val_loss: 0.0677 - learning_rate: 4.0000e-05\n",
      "Epoch 14/15\n",
      "\u001b[1m61266/61266\u001b[0m \u001b[32m━━━━━━━━━━━━━━━━━━━━\u001b[0m\u001b[37m\u001b[0m \u001b[1m6742s\u001b[0m 110ms/step - accuracy: 0.9961 - auc_1: 0.9985 - loss: 0.0197 - val_accuracy: 0.9882 - val_auc_1: 0.9907 - val_loss: 0.0703 - learning_rate: 4.0000e-05\n",
      "Epoch 15/15\n",
      "\u001b[1m61266/61266\u001b[0m \u001b[32m━━━━━━━━━━━━━━━━━━━━\u001b[0m\u001b[37m\u001b[0m \u001b[1m6950s\u001b[0m 113ms/step - accuracy: 0.9963 - auc_1: 0.9988 - loss: 0.0182 - val_accuracy: 0.9883 - val_auc_1: 0.9906 - val_loss: 0.0747 - learning_rate: 8.0000e-06\n"
     ]
    }
   ],
   "source": [
    "# Train the model\n",
    "history = model.fit(\n",
    "    x_train,\n",
    "    y_train,\n",
    "    validation_data=(x_val, y_val),\n",
    "    epochs=15,\n",
    "    batch_size=32,\n",
    "    callbacks=callbacks,\n",
    "    verbose=1\n",
    ")"
   ]
  },
  {
   "cell_type": "markdown",
   "metadata": {},
   "source": [
    "#### Evaluation"
   ]
  },
  {
   "cell_type": "code",
   "execution_count": 38,
   "metadata": {},
   "outputs": [
    {
     "name": "stdout",
     "output_type": "stream",
     "text": [
      "\u001b[1m15317/15317\u001b[0m \u001b[32m━━━━━━━━━━━━━━━━━━━━\u001b[0m\u001b[37m\u001b[0m \u001b[1m1248s\u001b[0m 81ms/step\n"
     ]
    }
   ],
   "source": [
    "# Evaluate the model\n",
    "y_prob = model.predict(x_val)\n",
    "thresholds = np.arange(0.1, 1.0, 0.1)\n",
    "best_threshold = 0.5\n",
    "best_f1 = 0"
   ]
  },
  {
   "cell_type": "code",
   "execution_count": 39,
   "metadata": {},
   "outputs": [
    {
     "name": "stdout",
     "output_type": "stream",
     "text": [
      "Best threshold: 0.9, Best F1 score: 0.9889477784550302\n"
     ]
    }
   ],
   "source": [
    "# Find the best threshold\n",
    "for threshold in thresholds:\n",
    "    y_pred = (y_prob > threshold).astype(int)\n",
    "    current_f1 = f1_score(y_val, y_pred)\n",
    "    if current_f1 > best_f1:\n",
    "        best_f1 = current_f1\n",
    "        best_threshold = threshold\n",
    "\n",
    "print(f\"Best threshold: {best_threshold}, Best F1 score: {best_f1}\")"
   ]
  },
  {
   "cell_type": "code",
   "execution_count": 40,
   "metadata": {},
   "outputs": [
    {
     "name": "stdout",
     "output_type": "stream",
     "text": [
      "\n",
      "Classification Report:\n",
      "              precision    recall  f1-score   support\n",
      "\n",
      "           0       1.00      0.98      0.99    245063\n",
      "           1       0.98      1.00      0.99    245062\n",
      "\n",
      "    accuracy                           0.99    490125\n",
      "   macro avg       0.99      0.99      0.99    490125\n",
      "weighted avg       0.99      0.99      0.99    490125\n",
      "\n"
     ]
    }
   ],
   "source": [
    "#classification report\n",
    "y_pred_optimal = (y_prob > best_threshold).astype(int)\n",
    "print(\"\\nClassification Report:\")\n",
    "print(classification_report(y_val, y_pred_optimal))"
   ]
  }
 ],
 "metadata": {
  "kernelspec": {
   "display_name": ".venv",
   "language": "python",
   "name": "python3"
  },
  "language_info": {
   "codemirror_mode": {
    "name": "ipython",
    "version": 3
   },
   "file_extension": ".py",
   "mimetype": "text/x-python",
   "name": "python",
   "nbconvert_exporter": "python",
   "pygments_lexer": "ipython3",
   "version": "3.11.9"
  }
 },
 "nbformat": 4,
 "nbformat_minor": 2
}
